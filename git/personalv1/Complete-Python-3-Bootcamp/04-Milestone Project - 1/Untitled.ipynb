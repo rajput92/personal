{
 "cells": [
  {
   "cell_type": "code",
   "execution_count": 46,
   "metadata": {},
   "outputs": [],
   "source": [
    "from IPython.display import clear_output\n",
    "\n",
    "def display_board(board):\n",
    "    clear_output()\n",
    "    print('{0} | {1} | {2}'.format(board[7], board[8], board[9]))\n",
    "    print('{0} | {1} | {2}'.format(board[4], board[5], board[6]))\n",
    "    print('{0} | {1} | {2}'.format(board[1], board[2], board[3]))\n",
    "    return 0\n",
    "def player_input():\n",
    "    marker = ''\n",
    "    while marker!='X' and marker!='O':\n",
    "        marker = input('Player1, Choose X or O:')\n",
    "    player1=marker\n",
    "    if player1=='X':\n",
    "        player2='O'\n",
    "    else:\n",
    "        player2='X'\n",
    "    return (player1, player2)\n",
    "    \n",
    "    \n",
    "def place_marker(board, marker, position):\n",
    "    board[position] = marker\n",
    "    print('{0} | {1} | {2}'.format(board[7], board[8], board[9]))\n",
    "    print('{0} | {1} | {2}'.format(board[4], board[5], board[6]))\n",
    "    print('{0} | {1} | {2}'.format(board[1], board[2], board[3]))\n",
    "    return 0\n",
    "\n",
    "def space_check(board, position):\n",
    "    return len(board[position])==0\n",
    "\n",
    "def win_check(board, marker):\n",
    "    if {marker}==set(board[1:4] or {marker}==set(board[4:7]) or {marker}==set(board[7:])):\n",
    "        return True\n",
    "    elif marker==board[1]==board[4]==board[7] or marker==board[1]==board[5]==board[9] or marker==board[2]==board[5]==board[8] or marker==board[3]==board[5]==board[7] or marker==board[3]==board[6]==board[9]:\n",
    "        return True\n",
    "    else:\n",
    "        False"
   ]
  },
  {
   "cell_type": "code",
   "execution_count": 49,
   "metadata": {},
   "outputs": [
    {
     "name": "stdout",
     "output_type": "stream",
     "text": [
      " |  | \n",
      " |  | \n",
      " |  | \n",
      "Player1, Choose X or O:O\n",
      "Player 1 choose O\n",
      "So Player 2 is X\n",
      "7\n",
      "O |  | \n",
      " |  | \n",
      " |  | \n",
      "1\n",
      "O |  | \n",
      " |  | \n",
      "X |  | \n",
      "5\n",
      "O |  | \n",
      " | O | \n",
      "X |  | \n",
      "2\n",
      "O |  | \n",
      " | O | \n",
      "X | X | \n",
      "3\n",
      "O |  | \n",
      " | O | \n",
      "X | X | O\n",
      "Player wins\n"
     ]
    }
   ],
   "source": [
    "print('Welcome to Tic Tac Toe!')\n",
    "ticToeBoard = ['']*10\n",
    "display_board(ticToeBoard)\n",
    "\n",
    "player1, player2 = player_input()\n",
    "print('Player 1 choose {}'.format(player1))\n",
    "print('So Player 2 is {}'.format(player2))\n",
    "a=True\n",
    "while a:\n",
    "    position = int(input())\n",
    "    markerchoose = player1\n",
    "    place_marker(ticToeBoard,markerchoose, position)\n",
    "    if win_check(ticToeBoard,markerchoose):\n",
    "        print('Player wins')\n",
    "        break\n",
    "    position = int(input())\n",
    "    markerchoose = player2\n",
    "    place_marker(ticToeBoard,markerchoose, position)\n",
    "    if win_check(ticToeBoard,markerchoose):\n",
    "        print('Player wins')\n",
    "        break\n"
   ]
  },
  {
   "cell_type": "code",
   "execution_count": null,
   "metadata": {},
   "outputs": [],
   "source": [
    "\n"
   ]
  },
  {
   "cell_type": "code",
   "execution_count": null,
   "metadata": {},
   "outputs": [],
   "source": []
  },
  {
   "cell_type": "code",
   "execution_count": null,
   "metadata": {},
   "outputs": [],
   "source": []
  }
 ],
 "metadata": {
  "kernelspec": {
   "display_name": "Python 3",
   "language": "python",
   "name": "python3"
  },
  "language_info": {
   "codemirror_mode": {
    "name": "ipython",
    "version": 3
   },
   "file_extension": ".py",
   "mimetype": "text/x-python",
   "name": "python",
   "nbconvert_exporter": "python",
   "pygments_lexer": "ipython3",
   "version": "3.6.4"
  }
 },
 "nbformat": 4,
 "nbformat_minor": 2
}
